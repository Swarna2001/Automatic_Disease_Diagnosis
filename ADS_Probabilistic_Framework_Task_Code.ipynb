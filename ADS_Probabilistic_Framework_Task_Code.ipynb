{
  "nbformat": 4,
  "nbformat_minor": 0,
  "metadata": {
    "colab": {
      "name": "ADS_Probabilistic_Framework_Task.ipynb",
      "provenance": [],
      "authorship_tag": "ABX9TyM24Ur6Z19vHTwVjVIU54RF"
    },
    "kernelspec": {
      "name": "python3",
      "display_name": "Python 3"
    },
    "language_info": {
      "name": "python"
    }
  },
  "cells": [
    {
      "cell_type": "code",
      "metadata": {
        "id": "tGcrh_2imkDh"
      },
      "source": [
        "import pickle"
      ],
      "execution_count": null,
      "outputs": []
    },
    {
      "cell_type": "code",
      "metadata": {
        "id": "O-fN2yJCm0K0"
      },
      "source": [
        "slot_set = pickle.load(open('/content/slot_set.p', 'rb'))"
      ],
      "execution_count": null,
      "outputs": []
    },
    {
      "cell_type": "code",
      "metadata": {
        "id": "Y0kH6ukKm5Fd",
        "colab": {
          "base_uri": "https://localhost:8080/"
        },
        "outputId": "c476ea73-221d-4de9-ff68-b4c304b7fb2d"
      },
      "source": [
        "slot_set"
      ],
      "execution_count": null,
      "outputs": [
        {
          "output_type": "execute_result",
          "data": {
            "text/plain": [
              "{'disease': 66,\n",
              " '上呼吸道感染': 5,\n",
              " '中等度热': 6,\n",
              " '低热': 11,\n",
              " '便秘': 54,\n",
              " '出汗': 7,\n",
              " '厌食': 3,\n",
              " '反复发热': 52,\n",
              " '发热': 4,\n",
              " '口臭': 46,\n",
              " '呕吐': 12,\n",
              " '咳嗽': 2,\n",
              " '咳痰': 19,\n",
              " '咽喉不适': 10,\n",
              " '咽喉炎': 39,\n",
              " '哭闹': 47,\n",
              " '喘息': 40,\n",
              " '喷嚏': 15,\n",
              " '嗜睡': 53,\n",
              " '四肢厥冷': 17,\n",
              " '大便粘液': 56,\n",
              " '大便酸臭': 32,\n",
              " '头痛': 9,\n",
              " '尿量减少': 62,\n",
              " '屁': 59,\n",
              " '干呕': 24,\n",
              " '干咳': 1,\n",
              " '急性气管支气管炎': 18,\n",
              " '恶心': 23,\n",
              " '扁桃体炎': 29,\n",
              " '支原体感染': 65,\n",
              " '支气管炎': 31,\n",
              " '支气管肺炎': 45,\n",
              " '普通感冒': 0,\n",
              " '有痰': 27,\n",
              " '气管炎': 35,\n",
              " '水样便': 41,\n",
              " '沙哑': 60,\n",
              " '消化不良': 33,\n",
              " '湿疹': 48,\n",
              " '病毒感染': 50,\n",
              " '痰鸣音': 28,\n",
              " '皮疹': 38,\n",
              " '睡眠障碍': 51,\n",
              " '稀便': 20,\n",
              " '粗糙呼吸音': 57,\n",
              " '精神软': 13,\n",
              " '细菌感染': 61,\n",
              " '绿便': 43,\n",
              " '肛门红肿': 44,\n",
              " '肠炎': 25,\n",
              " '肠鸣音': 64,\n",
              " '肺炎': 36,\n",
              " '腹泻': 34,\n",
              " '腹痛': 22,\n",
              " '腹胀': 58,\n",
              " '腹部不适': 63,\n",
              " '血便': 37,\n",
              " '贫血': 55,\n",
              " '过敏': 26,\n",
              " '退热': 30,\n",
              " '食欲不佳': 21,\n",
              " '食欲不振': 42,\n",
              " '高热': 8,\n",
              " '鼻塞': 16,\n",
              " '鼻流涕': 14,\n",
              " '鼻炎': 49}"
            ]
          },
          "metadata": {},
          "execution_count": 3
        }
      ]
    },
    {
      "cell_type": "code",
      "metadata": {
        "id": "FWwAGE3Um52q"
      },
      "source": [
        ""
      ],
      "execution_count": null,
      "outputs": []
    }
  ]
}