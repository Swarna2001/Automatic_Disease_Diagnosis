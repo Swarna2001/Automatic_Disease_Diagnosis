{
  "nbformat": 4,
  "nbformat_minor": 0,
  "metadata": {
    "colab": {
      "name": "ADS_Probabilistic_Framework_Task.ipynb",
      "provenance": []
    },
    "kernelspec": {
      "name": "python3",
      "display_name": "Python 3"
    },
    "language_info": {
      "name": "python"
    }
  },
  "cells": [
    {
      "cell_type": "markdown",
      "metadata": {
        "id": "0vy1FkW-jip7"
      },
      "source": [
        "Date: 02-09-2021\n",
        "\n",
        "Description: Completed creating a data record file for constructing the bayesian network"
      ]
    },
    {
      "cell_type": "code",
      "metadata": {
        "id": "tGcrh_2imkDh"
      },
      "source": [
        "import pickle\n",
        "import copy\n",
        "import pandas as pd"
      ],
      "execution_count": null,
      "outputs": []
    },
    {
      "cell_type": "code",
      "metadata": {
        "id": "BzfkZ4lom65N"
      },
      "source": [
        "filepath_for_all = '/content/drive/MyDrive/synthetic_dataset'"
      ],
      "execution_count": null,
      "outputs": []
    },
    {
      "cell_type": "code",
      "metadata": {
        "id": "O-fN2yJCm0K0"
      },
      "source": [
        "# Identifying the names of the underlying disease and symptoms in our dataset\n",
        "disease_symptom = pickle.load(open(filepath_for_all + '/disease_symptom.p', 'rb'))\n",
        "all_diseases = []\n",
        "all_symptoms = []\n",
        "for disease, value in disease_symptom.items():\n",
        "  all_diseases.append(disease)\n",
        "  all_symptoms.extend(list(value['symptom'].keys()))\n",
        "all_symptoms = list(set(all_symptoms))"
      ],
      "execution_count": null,
      "outputs": []
    },
    {
      "cell_type": "code",
      "metadata": {
        "colab": {
          "base_uri": "https://localhost:8080/"
        },
        "id": "3IpfqwvGnQ7k",
        "outputId": "6645b563-f0ed-4d54-f8fc-c8e2f1ac4c6d"
      },
      "source": [
        "print(\"The total number of disease are {}\".format(len(all_diseases)))\n",
        "print(\"Sample diseases: {}, {}, {}\".format(all_diseases[0], all_diseases[1], all_diseases[2]))"
      ],
      "execution_count": null,
      "outputs": [
        {
          "output_type": "stream",
          "name": "stdout",
          "text": [
            "The total number of disease are 90\n",
            "Sample diseases: Cat scratch disease, Dengue fever, Gas gangrene\n"
          ]
        }
      ]
    },
    {
      "cell_type": "code",
      "metadata": {
        "colab": {
          "base_uri": "https://localhost:8080/"
        },
        "id": "iG766x6rn1WD",
        "outputId": "cb9b76ad-caa0-4eb0-ff1c-fe9fec3fe8cf"
      },
      "source": [
        "print(\"The total number of symptoms are {}\".format(len(all_symptoms)))\n",
        "print(\"Sample symptoms: {}, {}, {}\".format(all_symptoms[0], all_symptoms[1], all_symptoms[2]))"
      ],
      "execution_count": null,
      "outputs": [
        {
          "output_type": "stream",
          "name": "stdout",
          "text": [
            "The total number of symptoms are 266\n",
            "Sample symptoms: Back pain, Joint stiffness or tightness, Neck stiffness or tightness\n"
          ]
        }
      ]
    },
    {
      "cell_type": "code",
      "metadata": {
        "colab": {
          "base_uri": "https://localhost:8080/"
        },
        "id": "_n3T6c2aoH1r",
        "outputId": "8ad14e24-cf9e-4264-9574-247b60b24396"
      },
      "source": [
        "# Constructing all the goals present within our training dataset\n",
        "groups = ['1', '4', '5', '6', '7', '12', '13', '14', '19']\n",
        "training_goal_set = []\n",
        "\n",
        "# Loading data from the respective groups files\n",
        "for i in groups:\n",
        "  filename = filepath_for_all + '/label' + i + '/goal_set.p'\n",
        "  goal_set = pickle.load(open(filename, 'rb'))\n",
        "  training_goal_set.extend(goal_set['train'])\n",
        "\n",
        "# Loading data from files belonging in general category\n",
        "goal_set = pickle.load(open(filepath_for_all + '/goal_set.p', 'rb'))\n",
        "training_goal_set.extend(goal_set['train'])\n",
        "\n",
        "print(\"Completed loading all the training data !!\")\n",
        "print(\"The number of user goals in the training data is {}\".format(len(training_goal_set)))"
      ],
      "execution_count": null,
      "outputs": [
        {
          "output_type": "stream",
          "name": "stdout",
          "text": [
            "Completed loading all the training data !!\n",
            "The number of user goals in the training data is 60000\n"
          ]
        }
      ]
    },
    {
      "cell_type": "code",
      "metadata": {
        "colab": {
          "base_uri": "https://localhost:8080/"
        },
        "id": "ahAIhbKhqXx7",
        "outputId": "e70d08d2-9da0-4c53-a964-a6580c41cd01"
      },
      "source": [
        "training_goal_set[0]"
      ],
      "execution_count": null,
      "outputs": [
        {
          "output_type": "execute_result",
          "data": {
            "text/plain": [
              "{'consult_id': 3833,\n",
              " 'disease_tag': 'Chagas disease',\n",
              " 'goal': {'explicit_inform_slots': {'Fatigue': True},\n",
              "  'implicit_inform_slots': {'Facial pain': True,\n",
              "   'Joint stiffness or tightness': True,\n",
              "   'Wrist pain': True},\n",
              "  'request_slots': {'disease': 'UNK'}},\n",
              " 'group_id': 0}"
            ]
          },
          "metadata": {},
          "execution_count": 12
        }
      ]
    },
    {
      "cell_type": "code",
      "metadata": {
        "id": "Uj83zORqpOzD"
      },
      "source": [
        "# Developing data records for the construction of a dataframe\n",
        "row_values = []\n",
        "column_values = all_diseases + all_symptoms\n",
        "\n",
        "for g in training_goal_set:\n",
        "  disease = g['disease_tag']\n",
        "  symptoms = list(g['goal']['explicit_inform_slots'].keys()) + list(g['goal']['implicit_inform_slots'].keys())\n",
        "  temp_row = [False for i in range(len(column_values))]\n",
        "  for c in range(len(column_values)):\n",
        "    if column_values[c] == disease:\n",
        "      temp_row[c] = True\n",
        "    elif column_values[c] in symptoms:\n",
        "      temp_row[c] = True\n",
        "    else:\n",
        "      pass\n",
        "  row_values.append(copy.deepcopy(temp_row))"
      ],
      "execution_count": null,
      "outputs": []
    },
    {
      "cell_type": "code",
      "metadata": {
        "colab": {
          "base_uri": "https://localhost:8080/"
        },
        "id": "fQyGxSG9rVCt",
        "outputId": "50f419e9-cfe7-4b69-f097-cf0edd8394fb"
      },
      "source": [
        "print(\"The total number of data records are {}\".format(len(row_values)))\n",
        "print(\"Sample data record(length: {}): {} \".format(len(row_values[0]), row_values[0]))"
      ],
      "execution_count": null,
      "outputs": [
        {
          "output_type": "stream",
          "name": "stdout",
          "text": [
            "The total number of data records are 60000\n",
            "Sample data record(length: 356): [False, False, False, False, False, True, False, False, False, False, False, False, False, False, False, False, False, False, False, False, False, False, False, False, False, False, False, False, False, False, False, False, False, False, False, False, False, False, False, False, False, False, False, False, False, False, False, False, False, False, False, False, False, False, False, False, False, False, False, False, False, False, False, False, False, False, False, False, False, False, False, False, False, False, False, False, False, False, False, False, False, False, False, False, False, False, False, False, False, False, False, True, False, False, False, False, False, False, False, False, False, False, False, False, False, False, False, False, False, False, False, True, False, False, False, False, False, False, False, False, False, False, False, False, False, False, False, False, False, False, False, False, False, False, False, False, False, False, False, False, False, False, False, False, False, False, False, False, False, False, False, False, False, False, False, False, False, False, False, False, False, False, False, False, False, False, False, False, False, False, False, False, False, False, False, False, False, False, False, False, False, False, False, False, False, False, False, False, False, False, False, False, False, False, False, False, False, False, True, False, False, False, False, False, False, False, False, False, False, False, False, False, False, False, False, False, False, False, False, False, False, False, False, False, False, False, False, False, False, False, False, False, False, False, False, False, False, False, False, False, False, False, False, False, False, False, False, False, False, False, False, False, False, False, False, False, False, False, False, False, False, False, False, False, False, False, False, False, False, False, False, False, False, False, False, False, False, False, False, False, False, False, False, False, False, False, False, False, False, False, False, False, False, False, False, False, False, False, False, False, False, False, False, False, False, False, False, False, False, False, False, False, False, False, False, False, False, False, False, False, False, False, False, False, False, False, False, False, False, False, False, False, False, False, False, False, False, False, False, False, False, False, False, True, False, False, False, False, False, False, False, False, False, False, False, False] \n"
          ]
        }
      ]
    },
    {
      "cell_type": "code",
      "metadata": {
        "colab": {
          "base_uri": "https://localhost:8080/"
        },
        "id": "WzuFJNLysiMi",
        "outputId": "59eee97f-dd5e-4ddd-d6f6-fa7eb3596a43"
      },
      "source": [
        "modified_column_values = []\n",
        "flag = True\n",
        "for c in column_values:\n",
        "  column_name = c.replace(', ', '_')\n",
        "  column_name = column_name.replace(' ', '_')\n",
        "  if c in all_diseases:\n",
        "    if c == 'Diaper rash':\n",
        "      if flag:\n",
        "        column_name += '_disease'\n",
        "        flag = False\n",
        "      else:\n",
        "        column_name += '_symptom'\n",
        "    else:\n",
        "      column_name += '_disease'\n",
        "  else:\n",
        "    column_name += '_symptom'\n",
        "  modified_column_values.append(column_name)\n",
        "print(modified_column_values)"
      ],
      "execution_count": null,
      "outputs": [
        {
          "output_type": "stream",
          "name": "stdout",
          "text": [
            "['Cat_scratch_disease_disease', 'Dengue_fever_disease', 'Gas_gangrene_disease', 'Chickenpox_disease', 'Granuloma_inguinale_disease', 'Chagas_disease_disease', 'Chancroid_disease', 'Chlamydia_disease', 'Acariasis_disease', 'Gonorrhea_disease', 'Fluid_overload_disease', 'Diabetic_ketoacidosis_disease', 'Amyloidosis_disease', 'Diabetes_insipidus_disease', 'Diabetic_retinopathy_disease', 'Diabetic_peripheral_neuropathy_disease', 'Carcinoid_syndrome_disease', 'Graves_disease_disease', 'Cushing_syndrome_disease', 'Cystic_Fibrosis_disease', 'Conversion_disorder_disease', 'Chronic_pain_disorder_disease', 'Acute_stress_reaction_disease', 'Factitious_disorder_disease', 'Alcohol_intoxication_disease', 'Eating_disorder_disease', 'Anxiety_disease', 'Dissociative_disorder_disease', 'Drug_abuse_cocaine_disease', 'Adjustment_reaction_disease', 'Cerebral_edema_disease', 'Degenerative_disc_disease_disease', 'Guillain_Barre_syndrome_disease', 'Complex_regional_pain_syndrome_disease', 'Amyotrophic_lateral_sclerosis_ALS_disease', 'Encephalitis_disease', 'Carpal_tunnel_syndrome_disease', 'Extrapyramidal_effect_of_drugs_disease', 'Essential_tremor_disease', 'Alzheimer_disease_disease', 'Conjunctivitis_due_to_allergy_disease', 'Ectropion_disease', 'Endophthalmitis_disease', 'Cyst_of_the_eyelid_disease', 'Chalazion_disease', 'Corneal_disorder_disease', 'Conductive_hearing_loss_disease', 'Central_retinal_artery_or_vein_occlusion_disease', 'Acute_glaucoma_disease', 'Aphakia_disease', 'Erythema_multiforme_disease', 'Dyshidrosis_disease', 'Actinic_keratosis_disease', 'Dermatitis_due_to_sun_exposure_disease', 'Eczema_disease', 'Contact_dermatitis_disease', 'Diaper_rash_disease', 'Acne_disease', 'Acanthosis_nigricans_disease', 'Decubitus_ulcer_disease', 'Fibromyalgia_disease', 'Connective_tissue_disorder_disease', 'Ganglion_cyst_disease', 'Ankylosing_spondylitis_disease', 'De_Quervain_disease_disease', 'Chronic_back_pain_disease', 'Gout_disease', 'Flat_feet_disease', 'Adhesive_capsulitis_of_the_shoulder_disease', 'Chondromalacia_of_the_patella_disease', 'Cystitis_disease', 'Epididymitis_disease', 'Acute_kidney_injury_disease', 'Endometriosis_disease', 'Erectile_dysfunction_disease', 'Endometrial_cancer_disease', 'Endometrial_hyperplasia_disease', 'Fibrocystic_breast_disease_disease', 'Female_infertility_of_unknown_cause_disease', 'Chronic_kidney_disease_disease', 'Air_embolism_disease', 'Fat_embolism_disease', 'Drug_reaction_disease', 'Carbon_monoxide_poisoning_disease', 'Fracture_of_the_pelvis_disease', 'Fracture_of_the_rib_disease', 'Allergy_disease', 'Concussion_disease', 'Epidural_hemorrhage_disease', 'Corneal_abrasion_disease', 'Back_pain_symptom', 'Joint_stiffness_or_tightness_symptom', 'Neck_stiffness_or_tightness_symptom', 'Blindness_symptom', 'Skin_on_leg_or_foot_looks_infected_symptom', 'Neck_cramps_or_spasms_symptom', 'Cough_symptom', 'Hysterical_behavior_symptom', 'Nailbiting_symptom', 'Eye_strain_symptom', 'Shoulder_cramps_or_spasms_symptom', 'Burning_abdominal_pain_symptom', 'Low_self-esteem_symptom', 'Throat_swelling_symptom', 'Foot_or_toe_stiffness_or_tightness_symptom', 'Depressive_or_psychotic_symptoms_symptom', 'Abnormal_movement_of_eyelid_symptom', 'Eyelid_lesion_or_rash_symptom', 'Sleepiness_symptom', 'Frequent_urination_symptom', 'Apnea_symptom', 'Wrist_pain_symptom', 'Skin_moles_symptom', 'Fluid_retention_symptom', 'Difficulty_eating_symptom', 'Symptoms_of_prostate_symptom', 'Mass_on_eyelid_symptom', 'Nasal_congestion_symptom', 'Sinus_congestion_symptom', 'Penis_redness_symptom', 'Disturbance_of_smell_or_taste_symptom', 'Skin_growth_symptom', 'Muscle_pain_symptom', 'Vaginal_pain_symptom', 'Fluid_in_ear_symptom', 'Feeling_hot_and_cold_symptom', 'Vulvar_sore_symptom', 'Side_pain_symptom', 'Vomiting_symptom', 'Eye_deviation_symptom', 'Feeling_cold_symptom', 'Unusual_color_or_odor_to_urine_symptom', 'Focal_weakness_symptom', 'Mass_on_vulva_symptom', 'Headache_symptom', 'Elbow_cramps_or_spasms_symptom', 'Hip_pain_symptom', 'Ankle_stiffness_or_tightness_symptom', 'Diaper_rash_symptom', 'Vaginal_bleeding_after_menopause_symptom', 'Polyuria_symptom', 'Congestion_in_chest_symptom', 'Fever_symptom', 'Irritable_infant_symptom', 'Eye_burns_or_stings_symptom', 'Foot_or_toe_lump_or_mass_symptom', 'Shoulder_swelling_symptom', 'Sore_throat_symptom', 'Painful_urination_symptom', 'Arm_lump_or_mass_symptom', 'Arm_stiffness_or_tightness_symptom', 'Spots_or_clouds_in_vision_symptom', 'Abusing_alcohol_symptom', 'Muscle_stiffness_or_tightness_symptom', 'Premature_ejaculation_symptom', 'Suprapubic_pain_symptom', 'Lack_of_growth_symptom', 'Itching_of_scrotum_symptom', 'Thirst_symptom', 'Foot_or_toe_swelling_symptom', 'Leg_cramps_or_spasms_symptom', 'Excessive_urination_at_night_symptom', 'Delusions_or_hallucinations_symptom', 'Itching_of_skin_symptom', 'Bowlegged_or_knock-kneed_symptom', 'Back_stiffness_or_tightness_symptom', 'Difficulty_in_swallowing_symptom', 'Lacrimation_symptom', 'Vomiting_blood_symptom', 'Long_menstrual_periods_symptom', 'Neck_swelling_symptom', 'Paresthesia_symptom', 'Skin_irritation_symptom', 'Diarrhea_symptom', 'Intermenstrual_bleeding_symptom', 'Acne_or_pimples_symptom', 'Excessive_appetite_symptom', 'Drug_abuse_symptom', 'Feet_turned_in_symptom', 'Muscle_cramps_contractures_or_spasms_symptom', 'Wrist_weakness_symptom', 'Low_back_weakness_symptom', 'Symptoms_of_the_face_symptom', 'Peripheral_edema_symptom', 'Bleeding_from_eye_symptom', 'Allergic_reaction_symptom', 'Hoarse_voice_symptom', 'Heavy_menstrual_flow_symptom', 'Pus_in_sputum_symptom', 'Arm_weakness_symptom', 'Retention_of_urine_symptom', 'Back_mass_or_lump_symptom', 'Plugged_feeling_in_ear_symptom', 'Hand_or_finger_stiffness_or_tightness_symptom', 'Hand_or_finger_cramps_or_spasms_symptom', 'Dry_or_flaky_scalp_symptom', 'Incontinence_of_stool_symptom', 'Pain_in_eye_symptom', 'Fatigue_symptom', 'Symptoms_of_bladder_symptom', 'Symptoms_of_the_kidneys_symptom', 'Groin_pain_symptom', 'Hand_or_finger_weakness_symptom', 'Pain_during_intercourse_symptom', 'Problems_with_movement_symptom', 'Weight_gain_symptom', 'Frequent_menstruation_symptom', 'Poor_circulation_symptom', 'Bleeding_or_discharge_from_nipple_symptom', 'Ankle_pain_symptom', 'Symptoms_of_eye_symptom', 'Knee_lump_or_mass_symptom', 'Mouth_ulcer_symptom', 'Bleeding_gums_symptom', 'Elbow_weakness_symptom', 'Hostile_behavior_symptom', 'Painful_sinuses_symptom', 'Spotting_or_bleeding_during_pregnancy_symptom', 'Sharp_chest_pain_symptom', 'Ear_pain_symptom', 'Hot_flashes_symptom', 'Hemoptysis_symptom', 'Skin_swelling_symptom', 'Abnormal_involuntary_movements_symptom', 'Seizures_symptom', 'Vaginal_itching_symptom', 'Nightmares_symptom', 'Knee_pain_symptom', 'Unwanted_hair_symptom', 'Shoulder_stiffness_or_tightness_symptom', 'Leg_weakness_symptom', 'Itchy_eyelid_symptom', 'Hand_or_finger_lump_or_mass_symptom', 'Scanty_menstrual_flow_symptom', 'Emotional_symptoms_symptom', 'Hand_or_finger_swelling_symptom', 'Sharp_abdominal_pain_symptom', 'Lymphedema_symptom', 'Coryza_symptom', 'Mass_in_scrotum_symptom', 'Knee_swelling_symptom', 'Back_weakness_symptom', 'Elbow_pain_symptom', 'Impotence_symptom', 'Nausea_symptom', 'Pus_in_urine_symptom', 'Difficulty_speaking_symptom', 'Eyelid_swelling_symptom', 'Swollen_or_red_tonsils_symptom', 'Temper_problems_symptom', 'Swollen_abdomen_symptom', 'Pulling_at_ears_symptom', 'Swollen_tongue_symptom', 'Itchiness_of_eye_symptom', 'Irregular_appearing_scalp_symptom', 'Anxiety_and_nervousness_symptom', 'Low_back_pain_symptom', 'Skin_rash_symptom', 'Vaginal_discharge_symptom', 'Lip_swelling_symptom', 'Excessive_growth_symptom', 'Knee_weakness_symptom', 'Infrequent_menstruation_symptom', 'Muscle_swelling_symptom', 'Hand_or_finger_pain_symptom', 'Decreased_appetite_symptom', 'Double_vision_symptom', 'Increased_heart_rate_symptom', 'Foot_or_toe_pain_symptom', 'Wrist_lump_or_mass_symptom', 'Back_cramps_or_spasms_symptom', 'Wrinkles_on_skin_symptom', 'Foreign_body_sensation_in_eye_symptom', 'Fainting_symptom', 'Ankle_swelling_symptom', 'Blood_in_urine_symptom', 'Sneezing_symptom', 'Restlessness_symptom', 'Pain_or_soreness_of_breast_symptom', 'Penile_discharge_symptom', 'Leg_pain_symptom', 'Hurts_to_breath_symptom', 'Excessive_anger_symptom', 'Infant_spitting_up_symptom', 'Wrist_swelling_symptom', 'Sweating_symptom', 'Disturbance_of_memory_symptom', 'Ringing_in_ear_symptom', 'Painful_menstruation_symptom', 'Insomnia_symptom', 'Muscle_weakness_symptom', 'Problems_during_pregnancy_symptom', 'Frontal_headache_symptom', 'Weakness_symptom', 'Chills_symptom', 'Bladder_mass_symptom', 'Chest_tightness_symptom', 'Infertility_symptom', 'Skin_lesion_symptom', 'Neck_pain_symptom', 'Depression_symptom', 'Difficulty_breathing_symptom', 'Abnormal_size_or_shape_of_ear_symptom', 'Ache_all_over_symptom', 'Cramps_and_spasms_symptom', 'Fears_and_phobias_symptom', 'Leg_swelling_symptom', 'Skin_dryness_peeling_scaliness_or_roughness_symptom', 'Pelvic_pain_symptom', 'Skin_on_arm_or_hand_looks_infected_symptom', 'Hip_stiffness_or_tightness_symptom', 'Penis_pain_symptom', 'Shoulder_pain_symptom', 'Decreased_heart_rate_symptom', 'Involuntary_urination_symptom', 'Absence_of_menstruation_symptom', 'Knee_stiffness_or_tightness_symptom', 'Redness_in_ear_symptom', 'Wrist_stiffness_or_tightness_symptom', 'Itchy_scalp_symptom', 'Skin_pain_symptom', 'Too_little_hair_symptom', 'Swollen_eye_symptom', 'Lower_abdominal_pain_symptom', 'Diminished_hearing_symptom', 'Irregular_belly_button_symptom', 'Bones_are_painful_symptom', 'Irregular_heartbeat_symptom', 'Pain_during_pregnancy_symptom', 'Stiffness_all_over_symptom', 'Unpredictable_menstruation_symptom', 'Diminished_vision_symptom', 'Swelling_of_scrotum_symptom', 'Joint_pain_symptom', 'Groin_mass_symptom', 'Loss_of_sensation_symptom', 'Shortness_of_breath_symptom', 'Drainage_in_throat_symptom', 'Loss_of_sex_drive_symptom', 'Palpitations_symptom', 'White_discharge_from_eye_symptom', 'Eye_redness_symptom', 'Kidney_mass_symptom', 'Facial_pain_symptom', 'Feeling_ill_symptom', 'Arm_swelling_symptom', 'Nose_deformity_symptom', 'Lower_body_pain_symptom', 'Dizziness_symptom', 'Abnormal_appearing_skin_symptom', 'Cross-eyed_symptom', 'Warts_symptom', 'Rib_pain_symptom', 'Lump_or_mass_of_breast_symptom', 'Arm_pain_symptom', 'Pain_in_testicles_symptom']\n"
          ]
        }
      ]
    },
    {
      "cell_type": "code",
      "metadata": {
        "id": "hR1dwPsirltj"
      },
      "source": [
        "ds_dataframe = pd.DataFrame(data=row_values, columns=modified_column_values)"
      ],
      "execution_count": null,
      "outputs": []
    },
    {
      "cell_type": "code",
      "metadata": {
        "colab": {
          "base_uri": "https://localhost:8080/"
        },
        "id": "MMg-IiQwsRzy",
        "outputId": "5c33dd54-27eb-4993-8644-a5de4466f7db"
      },
      "source": [
        "ds_dataframe['Diaper_rash_disease']"
      ],
      "execution_count": null,
      "outputs": [
        {
          "output_type": "execute_result",
          "data": {
            "text/plain": [
              "0        False\n",
              "1        False\n",
              "2        False\n",
              "3        False\n",
              "4        False\n",
              "         ...  \n",
              "59995    False\n",
              "59996    False\n",
              "59997    False\n",
              "59998    False\n",
              "59999    False\n",
              "Name: Diaper_rash_disease, Length: 60000, dtype: bool"
            ]
          },
          "metadata": {},
          "execution_count": 45
        }
      ]
    },
    {
      "cell_type": "code",
      "metadata": {
        "id": "drS6WuoSsU2C"
      },
      "source": [
        "ds_dataframe.to_csv('/content/ds_dataframe.csv', header=True, index=False)"
      ],
      "execution_count": null,
      "outputs": []
    },
    {
      "cell_type": "code",
      "metadata": {
        "id": "XxVXyDrt5pff"
      },
      "source": [
        ""
      ],
      "execution_count": null,
      "outputs": []
    }
  ]
}